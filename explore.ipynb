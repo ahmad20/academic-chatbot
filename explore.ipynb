{
 "cells": [
  {
   "cell_type": "markdown",
   "metadata": {},
   "source": [
    "# Explore"
   ]
  },
  {
   "cell_type": "code",
   "execution_count": 30,
   "metadata": {},
   "outputs": [],
   "source": [
    "import os\n",
    "import pandas as pd\n",
    "from model import DocumentProcessor\n",
    "import matplotlib.pyplot as plt\n",
    "import numpy as np"
   ]
  },
  {
   "cell_type": "code",
   "execution_count": null,
   "metadata": {},
   "outputs": [],
   "source": [
    "# Create database from documents(pdf to vectorstore)\n",
    "# path = \"temp\"\n",
    "# dp = DocumentProcessor()\n",
    "# for filename in os.listdir(path):\n",
    "#     filepath = os.path.join(path, filename)\n",
    "#     dp.create_db_from_document(filepath)"
   ]
  },
  {
   "cell_type": "code",
   "execution_count": 18,
   "metadata": {},
   "outputs": [
    {
     "data": {
      "text/plain": [
       "False"
      ]
     },
     "execution_count": 18,
     "metadata": {},
     "output_type": "execute_result"
    }
   ],
   "source": [
    "# Create database from video\n",
    "DocumentProcessor().is_vectorstores_empty()\n",
    "url = [\"https://www.youtube.com/watch?v=2_aq-xxBLe8\", \"https://www.youtube.com/watch?v=PPoqvj2By74\"]\n",
    "for u in url:\n",
    "    dp.create_db_from_video(u)"
   ]
  },
  {
   "cell_type": "code",
   "execution_count": null,
   "metadata": {},
   "outputs": [],
   "source": [
    "# Read questions from text file and convert to csv file\n",
    "# df = pd.DataFrame(columns=['category', 'question'])\n",
    "# text = \"questions.txt\"\n",
    "# with open(text, \"r\") as f:\n",
    "#     for line in f:\n",
    "#         category = line.split(\"|\")[0]\n",
    "#         question = line.split(\"|\")[1].replace(\"\\n\", \"\")\n",
    "#         new_data = pd.DataFrame([[category, question]], columns=['category', 'question'])\n",
    "#         df = pd.concat([df, new_data], ignore_index=True)\n",
    "\n",
    "# if os.path.exists(\"questions.csv\"):\n",
    "#     os.remove(\"questions.csv\")\n",
    "# df.to_csv(\"questions.csv\", index=False)"
   ]
  },
  {
   "cell_type": "code",
   "execution_count": null,
   "metadata": {},
   "outputs": [],
   "source": [
    "# Compute rouge score\n",
    "# dp = DocumentProcessor()\n",
    "# db = dp.load_db()\n",
    "\n",
    "# import evaluate\n",
    "# # import nltk\n",
    "# from nltk.tokenize import sent_tokenize\n",
    "# from nltk.util import ngrams\n",
    "# from nltk.tokenize import word_tokenize\n",
    "# # nltk.download(\"punkt\")\n",
    "\n",
    "# rouge_score = evaluate.load(\"rouge\")\n",
    "\n",
    "# def compute_rouge(generated: str, reference: str, n_gram=1) -> dict:\n",
    "#     generated_token = word_tokenize(generated)\n",
    "#     reference_token = word_tokenize(reference)\n",
    "    \n",
    "#     generated_ngram = set(ngrams(generated_token, n_gram))\n",
    "#     reference_ngram = set(ngrams(reference_token, n_gram))\n",
    "    \n",
    "#     common_ngram = generated_ngram.intersection(reference_ngram)\n",
    "    \n",
    "#     precision = len(common_ngram) / len(generated_ngram) if len(generated_ngram) > 0 else 0\n",
    "#     recall = len(common_ngram) / len(reference_ngram) if len(reference_ngram) > 0 else 0\n",
    "#     fscore = 2 * precision * recall / (precision + recall) if (precision + recall) > 0 else 0\n",
    "    \n",
    "#     return precision, recall, fscore\n",
    "  \n",
    "\n",
    "# answer = []\n",
    "# reference = []\n",
    "# precisions1 = []\n",
    "# recalls1 = []\n",
    "# f1scores1 = []\n",
    "# precisions2 = []\n",
    "# recalls2 = []\n",
    "# f1scores2 = []\n",
    "# bestscore = []\n",
    "# df = pd.read_csv(\"questions.csv\")\n",
    "# for i in df.index:\n",
    "#     response, source = dp.get_response_from_query(db=db, query=df[\"question\"][i])\n",
    "#     response = response.replace(\"\\n\", \"\\\\n\")\n",
    "#     source = source.replace(\"\\n\", \"\\\\n\")\n",
    "    \n",
    "#     answer.append(response)\n",
    "#     reference.append(source)\n",
    "#     p, r, f1 = compute_rouge(response, source, n_gram=1)\n",
    "#     precisions1.append(p)\n",
    "#     recalls1.append(r)\n",
    "#     f1scores1.append(f1)\n",
    "#     p, r, f2 = compute_rouge(response, source, n_gram=2)\n",
    "#     precisions2.append(p)\n",
    "#     recalls2.append(r)\n",
    "#     f1scores2.append(f2)\n",
    "    \n",
    "#     if f1 > f2:\n",
    "#         bestscore.append(1)\n",
    "#     elif f2 > f1:\n",
    "#         bestscore.append(2)\n",
    "#     else:\n",
    "#         bestscore.append(0) \n",
    "\n",
    "# df['answer'] = answer\n",
    "# df['reference'] = reference\n",
    "# df['precision#1'] = precisions1\n",
    "# df['recall#1'] = recalls1\n",
    "# df['f1score#1'] = f1scores1\n",
    "# df['precision#2'] = precisions2\n",
    "# df['recall#2'] = recalls2\n",
    "# df['f1score#2'] = f1scores2\n",
    "# df['bestscore'] = bestscore\n",
    "\n",
    "# if os.path.exists(\"test.csv\"):\n",
    "#     os.remove(\"test.csv\")\n",
    "# df.to_csv(\"test.csv\", index=False)"
   ]
  },
  {
   "cell_type": "code",
   "execution_count": 4,
   "metadata": {},
   "outputs": [
    {
     "data": {
      "image/png": "[encoded data removed]",
      "text/plain": [
       "<Figure size 640x480 with 1 Axes>"
      ]
     },
     "metadata": {},
     "output_type": "display_data"
    }
   ],
   "source": [
    "# Plot rogue score to box plot\n",
    "df = pd.read_csv(\"test.csv\")\n",
    "average_precision1 = df['precision#1'].mean()\n",
    "average_recall1 = df['recall#1'].mean()\n",
    "average_f1score1 = df['f1score#1'].mean()\n",
    "\n",
    "# print(\"Average Precision#1: \", average_precision1)\n",
    "# print(\"Average Recall#1: \", average_recall1)\n",
    "# print(\"Average F1score#1: \", average_f1score1)\n",
    "\n",
    "fig, ax = plt.subplots()\n",
    "ax.boxplot([df['precision#1'], df['recall#1'], df['f1score#1']])\n",
    "ax.set_xticklabels(['precision-n1', 'recall-n1', 'f1score-n1'])\n",
    "ax.set_title(\"Rouge score for n-gram 1\")\n",
    "plt.savefig(\"rouge_score_n1.png\")\n",
    "\n"
   ]
  },
  {
   "cell_type": "code",
   "execution_count": 5,
   "metadata": {},
   "outputs": [
    {
     "data": {
      "image/png": "[encoded data removed]",
      "text/plain": [
       "<Figure size 640x480 with 1 Axes>"
      ]
     },
     "metadata": {},
     "output_type": "display_data"
    }
   ],
   "source": [
    "average_precision1 = df['precision#2'].mean()\n",
    "average_recall1 = df['recall#2'].mean()\n",
    "average_f1score1 = df['f1score#2'].mean()\n",
    "\n",
    "fig, ax = plt.subplots()\n",
    "ax.boxplot([df['precision#2'], df['recall#2'], df['f1score#2']])\n",
    "ax.set_xticklabels(['precision-n2', 'recall-n2', 'f1score-n2'])\n",
    "ax.set_title(\"Rouge score for n-gram 2\")\n",
    "plt.savefig(\"rouge_score_n2.png\")"
   ]
  },
  {
   "cell_type": "code",
   "execution_count": null,
   "metadata": {},
   "outputs": [],
   "source": [
    "# Learn about softmax activation function\n",
    "z = np.array([1, 2, 3, 4, 5, 7])\n",
    "print(np.exp(z[0]))\n",
    "e_z = np.exp(z)\n",
    "print(e_z)\n",
    "sum_e_z = np.sum(e_z)\n",
    "print(sum_e_z)\n",
    "softmax = e_z / sum_e_z\n",
    "print(softmax)"
   ]
  },
  {
   "cell_type": "code",
   "execution_count": 2,
   "metadata": {},
   "outputs": [],
   "source": [
    "import pandas as pd\n",
    "df1 = pd.read_csv('interview.csv')\n",
    "df2 = pd.read_csv('questions.csv')\n",
    "\n",
    "df_combine = pd.concat([df1, df2], ignore_index=True)\n",
    "df_combine.to_csv('combine.csv', index=False)"
   ]
  },
  {
   "cell_type": "markdown",
   "metadata": {},
   "source": [
    "# Generating Evaluation"
   ]
  },
  {
   "cell_type": "code",
   "execution_count": 6,
   "metadata": {},
   "outputs": [],
   "source": [
    "import json\n",
    "import pandas as pd\n",
    "with open(\"manual-transcript.json\", 'r') as file:\n",
    "    json_data = json.load(file)\n",
    "\n",
    "with open(\"ev.csv\", 'w') as file:\n",
    "    pd.DataFrame(json_data).to_csv(file)"
   ]
  }
 ],
 "metadata": {
  "kernelspec": {
   "display_name": "chatbot-env",
   "language": "python",
   "name": "python3"
  },
  "language_info": {
   "codemirror_mode": {
    "name": "ipython",
    "version": 3
   },
   "file_extension": ".py",
   "mimetype": "text/x-python",
   "name": "python",
   "nbconvert_exporter": "python",
   "pygments_lexer": "ipython3",
   "version": "3.11.7"
  }
 },
 "nbformat": 4,
 "nbformat_minor": 2
}
